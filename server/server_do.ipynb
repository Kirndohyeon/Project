{
 "cells": [
  {
   "cell_type": "code",
   "execution_count": 22,
   "id": "092c26ef",
   "metadata": {},
   "outputs": [],
   "source": [
    "import base64\n",
    "import json\n",
    "from flask import Flask, jsonify, request\n",
    "import numpy as np\n",
    "import cv2"
   ]
  },
  {
   "cell_type": "code",
   "execution_count": 58,
   "id": "b02befb4",
   "metadata": {
    "scrolled": true
   },
   "outputs": [
    {
     "name": "stdout",
     "output_type": "stream",
     "text": [
      " * Serving Flask app '__main__' (lazy loading)\n",
      " * Environment: production\n",
      "\u001b[31m   WARNING: This is a development server. Do not use it in a production deployment.\u001b[0m\n",
      "\u001b[2m   Use a production WSGI server instead.\u001b[0m\n",
      " * Debug mode: off\n"
     ]
    },
    {
     "name": "stderr",
     "output_type": "stream",
     "text": [
      " * Running on all addresses.\n",
      "   WARNING: This is a development server. Do not use it in a production deployment.\n",
      " * Running on http://192.168.1.38:83/ (Press CTRL+C to quit)\n",
      "C:\\Users\\do150\\AppData\\Local\\Temp\\ipykernel_6532\\1609159443.py:23: DeprecationWarning: The binary mode of fromstring is deprecated, as it behaves surprisingly on unicode inputs. Use frombuffer instead\n",
      "  encoded_img = np.fromstring(imgdata, dtype = np.uint8)\n",
      "192.168.1.38 - - [14/Apr/2023 19:46:24] \"POST /image HTTP/1.1\" 200 -\n"
     ]
    },
    {
     "name": "stdout",
     "output_type": "stream",
     "text": [
      "(640, 1152, 3)\n"
     ]
    }
   ],
   "source": [
    "app = Flask(__name__)\n",
    "\n",
    "@app.route('/api/image', methods=['GET'])\n",
    "def send_image():\n",
    "    # 이미지 파일 읽어오기\n",
    "    with open(\"C:/Users/do150/Desktop/main_img_1158px_01.png\", \"rb\") as image_file:\n",
    "        image_bytes = image_file.read()\n",
    "\n",
    "    # Base64 인코딩\n",
    "    base64_image = base64.b64encode(image_bytes).decode('utf-8')\n",
    "\n",
    "    # JSON 데이터 만들기\n",
    "    response_data = {'imageData': base64_image}\n",
    "    response = jsonify(response_data)\n",
    "\n",
    "    return response\n",
    "\n",
    "@app.route('/image', methods=['POST'])\n",
    "def upload_image():\n",
    "    image = request.get_json()\n",
    "    img = image['image']\n",
    "    imgdata = base64.b64decode(img)\n",
    "    encoded_img = np.fromstring(imgdata, dtype = np.uint8)\n",
    "    img_cv = cv2.imdecode(encoded_img, cv2.IMREAD_COLOR)\n",
    "    cv2.imwrite('C:/Users/do150/Desktop/upload/image.jpg', img_cv)\n",
    "    return 'Image uploaded successfully.'\n",
    "\n",
    "if __name__ == '__main__':\n",
    "    app.run(host='0.0.0.0', port=83)\n"
   ]
  },
  {
   "cell_type": "code",
   "execution_count": 39,
   "id": "140c7200",
   "metadata": {},
   "outputs": [],
   "source": [
    "from PIL import Image\n",
    "\n",
    "# 입력 파일 경로와 출력 파일 경로 설정\n",
    "input_file = \"C:/Users/do150/Desktop/de/out-0.png\"\n",
    "output_file = \"C:/Users/do150/Desktop/de/out-1.jpg\"\n",
    "\n",
    "# png 이미지 열기\n",
    "with Image.open(input_file) as img:\n",
    "    # 이미지를 RGB 모드로 변환하고 jpg로 저장\n",
    "    img.convert(\"RGB\").save(output_file)"
   ]
  },
  {
   "cell_type": "code",
   "execution_count": 49,
   "id": "36c1ccd9",
   "metadata": {
    "scrolled": true
   },
   "outputs": [
    {
     "name": "stderr",
     "output_type": "stream",
     "text": [
      "C:\\Users\\do150\\AppData\\Local\\Temp\\ipykernel_6532\\1988471089.py:7: DeprecationWarning: The binary mode of fromstring is deprecated, as it behaves surprisingly on unicode inputs. Use frombuffer instead\n",
      "  encoded_img = np.fromstring(imgdata, dtype = np.uint8)\n"
     ]
    }
   ],
   "source": [
    "image_name = 'C:/Users/do150/Desktop/de/out-1.jpg'\n",
    "img = cv2.imread(image_name)\n",
    "jpg_img = cv2.imencode('.jpg', img)\n",
    "b64_string = base64.b64encode(jpg_img[1]).decode('utf-8')\n",
    "\n",
    "imgdata = base64.b64decode(b64_string)\n",
    "encoded_img = np.fromstring(imgdata, dtype = np.uint8)\n",
    "img_cv = cv2.imdecode(encoded_img, cv2.IMREAD_COLOR)\n",
    "cv2.imshow('image', img_cv)\n",
    "cv2.waitKey(0)\n",
    "cv2.destroyAllWindows()"
   ]
  },
  {
   "cell_type": "code",
   "execution_count": null,
   "id": "8f97bb47",
   "metadata": {},
   "outputs": [],
   "source": []
  }
 ],
 "metadata": {
  "kernelspec": {
   "display_name": "Python 3 (ipykernel)",
   "language": "python",
   "name": "python3"
  },
  "language_info": {
   "codemirror_mode": {
    "name": "ipython",
    "version": 3
   },
   "file_extension": ".py",
   "mimetype": "text/x-python",
   "name": "python",
   "nbconvert_exporter": "python",
   "pygments_lexer": "ipython3",
   "version": "3.11.2"
  }
 },
 "nbformat": 4,
 "nbformat_minor": 5
}
