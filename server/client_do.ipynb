{
 "cells": [
  {
   "cell_type": "code",
   "execution_count": 6,
   "id": "25927161",
   "metadata": {
    "scrolled": true
   },
   "outputs": [
    {
     "name": "stdout",
     "output_type": "stream",
     "text": [
      "error 500\n"
     ]
    }
   ],
   "source": [
    "# 회원가입\n",
    "\n",
    "import requests\n",
    "import json\n",
    "import base64\n",
    "import cv2\n",
    "import numpy as np\n",
    "\n",
    "\n",
    "key_val = '3'\n",
    "iden = 'do1507112'\n",
    "password = 'do150722'\n",
    "nickname = 'dohyeon1231'\n",
    "email = 'do1507111123@naver.com'\n",
    "\n",
    "files = {'key' : key_val, 'id' : iden, 'password': password, 'nickname': nickname, 'email': email}\n",
    "\n",
    "response = requests.post(\"http://192.168.1.38:83/image\", json=files)\n",
    "\n",
    "if response.status_code == 200:\n",
    "    print(\"end!\")\n",
    "    ok_sign = response.json()['ok_sign']\n",
    "    print(ok_sign)\n",
    "    if ok_sign == '1':\n",
    "        print(\"ok!\")     \n",
    "    else:\n",
    "        print(\"non ok!\")\n",
    "        \n",
    "else:\n",
    "    print(\"error\", response.status_code)"
   ]
  },
  {
   "cell_type": "code",
   "execution_count": 7,
   "id": "905ac5c0",
   "metadata": {},
   "outputs": [
    {
     "name": "stdout",
     "output_type": "stream",
     "text": [
      "512\n",
      "437\n",
      "end!\n",
      "ok\n"
     ]
    }
   ],
   "source": [
    "# 이미지 입력\n",
    "def resize_image(image, max_size):\n",
    "    width, height, _ = image.shape\n",
    "\n",
    "    if width > height:\n",
    "        ratio = max_size / float(width)\n",
    "    else:\n",
    "        ratio = max_size / float(height)\n",
    "\n",
    "    new_width = int(width * ratio)\n",
    "    new_height = int(height * ratio)\n",
    "\n",
    "    print(new_width)\n",
    "    print(new_height)\n",
    "    \n",
    "    resized_image = cv2.resize(image, (new_height, new_width))\n",
    "\n",
    "    return resized_image\n",
    "\n",
    "import requests\n",
    "import json\n",
    "import base64\n",
    "import cv2\n",
    "import numpy as np\n",
    "\n",
    "image_name = 'C:/Users/do150/Desktop/dog.jpg'\n",
    "img = cv2.imread(image_name)\n",
    "\n",
    "img = resize_image(img, 512)\n",
    "jpg_img = cv2.imencode('.jpg', img)\n",
    "b64_string = base64.b64encode(jpg_img[1]).decode('utf-8')\n",
    "key_val = '5'\n",
    "sentence = \"sitting dog\"\n",
    "\n",
    "files = {'image': b64_string, 'key' : key_val, 'sentence' : sentence}\n",
    "\n",
    "response = requests.post(\"http://221.163.223.200:5000/image\", json=files)\n",
    "\n",
    "if response.status_code == 200:\n",
    "    print(\"end!\")\n",
    "    result1 = response.json()['result']\n",
    "    ok_sign = response.json()['ok_sign']\n",
    "    if ok_sign == '1':\n",
    "        imgdata = base64.b64decode(result1)\n",
    "        encoded_img = np.frombuffer(imgdata, dtype = np.uint8)\n",
    "        img_cv = cv2.imdecode(encoded_img, cv2.IMREAD_COLOR)\n",
    "        \n",
    "        cv2.imshow('image', img_cv)\n",
    "        cv2.waitKey(0)\n",
    "        cv2.destroyAllWindows()\n",
    "        \n",
    "        print(\"ok\")\n",
    "    else:\n",
    "        print(\"non ok!\")\n",
    "        \n",
    "else:\n",
    "    print(\"error\", response.status_code)"
   ]
  },
  {
   "cell_type": "code",
   "execution_count": 5,
   "id": "cf8ad936",
   "metadata": {},
   "outputs": [
    {
     "name": "stdout",
     "output_type": "stream",
     "text": [
      "end!\n",
      "ok\n"
     ]
    }
   ],
   "source": [
    "# 이미지 변형\n",
    "\n",
    "import requests\n",
    "import json\n",
    "import base64\n",
    "import cv2\n",
    "import numpy as np\n",
    "\n",
    "stab_image = cv2.imread(\"C:/Users/do150/Desktop/dog.jpg\")\n",
    "\n",
    "jpg_img = cv2.imencode('.jpg', stab_image)\n",
    "b64_string = base64.b64encode(jpg_img[1]).decode('utf-8')\n",
    "key_val = '16'\n",
    "point = [400, 400]\n",
    "\n",
    "files = {'image': b64_string, 'key' : key_val, 'point' : point}\n",
    "\n",
    "response = requests.post(\"http://221.163.223.200:5000/image\", json=files)\n",
    "\n",
    "if response.status_code == 200:\n",
    "    print(\"end!\")\n",
    "    result1 = response.json()['result1']\n",
    "    result2 = response.json()['result2']\n",
    "    ok_sign = response.json()['ok_sign']\n",
    "    if ok_sign == '1':\n",
    "        imgdata = base64.b64decode(result1)\n",
    "        encoded_img = np.frombuffer(imgdata, dtype = np.uint8)\n",
    "        img_cv = cv2.imdecode(encoded_img, cv2.IMREAD_COLOR)\n",
    "        \n",
    "        imgdata1 = base64.b64decode(result2)\n",
    "        encoded_img1 = np.frombuffer(imgdata1, dtype = np.uint8)\n",
    "        img_cv1 = cv2.imdecode(encoded_img1, cv2.IMREAD_COLOR)\n",
    "        \n",
    "        cv2.imshow('image', img_cv)\n",
    "        cv2.imshow('image1', img_cv1)\n",
    "        cv2.waitKey(0)\n",
    "        cv2.destroyAllWindows()\n",
    "        \n",
    "        print(\"ok\")\n",
    "    else:\n",
    "        print(\"non ok!\")\n",
    "        \n",
    "else:\n",
    "    print(\"error\", response.status_code)"
   ]
  },
  {
   "cell_type": "code",
   "execution_count": 4,
   "id": "9fc964c1",
   "metadata": {},
   "outputs": [
    {
     "name": "stdout",
     "output_type": "stream",
     "text": [
      "(671, 381, 3)\n",
      "(2, 3, 3)\n"
     ]
    }
   ],
   "source": [
    "print(img_cv.shape)\n",
    "print(img_cv1.shape)"
   ]
  },
  {
   "cell_type": "code",
   "execution_count": 4,
   "id": "2dace144",
   "metadata": {},
   "outputs": [
    {
     "name": "stdout",
     "output_type": "stream",
     "text": [
      "end!\n",
      "ok\n"
     ]
    }
   ],
   "source": [
    "# 이미지 저장\n",
    "\n",
    "import requests\n",
    "import json\n",
    "import base64\n",
    "import cv2\n",
    "import numpy as np\n",
    "\n",
    "image_name = 'C:/Users/do150/Desktop/4.png'\n",
    "img = cv2.imread(image_name)\n",
    "jpg_img = cv2.imencode('.jpg', img)\n",
    "b64_string = base64.b64encode(jpg_img[1]).decode('utf-8')\n",
    "key_val = '13'\n",
    "iden = 'test00'\n",
    "\n",
    "files = {'image': b64_string, 'key' : key_val, 'category' : 'o', 'id': iden}\n",
    "\n",
    "response = requests.post(\"http://221.163.223.200:5000/image\", json=files)\n",
    "\n",
    "if response.status_code == 200:\n",
    "    print(\"end!\")\n",
    "    ok_sign = response.json()['ok_sign']\n",
    "    if ok_sign == '1':\n",
    "        print(\"ok\")\n",
    "        \n",
    "    else:\n",
    "        print(\"non ok!\")\n",
    "        \n",
    "else:\n",
    "    print(\"error\", response.status_code)"
   ]
  },
  {
   "cell_type": "code",
   "execution_count": null,
   "id": "2fc374ca",
   "metadata": {},
   "outputs": [
    {
     "name": "stdout",
     "output_type": "stream",
     "text": [
      "end!\n"
     ]
    }
   ],
   "source": [
    "# 스케치 입력\n",
    "\n",
    "import requests\n",
    "import json\n",
    "import base64\n",
    "import cv2\n",
    "import numpy as np\n",
    "\n",
    "image_name = 'C:/Users/do150/Desktop/cap.png'\n",
    "img = cv2.imread(image_name)\n",
    "jpg_img = cv2.imencode('.jpg', img)\n",
    "b64_string = base64.b64encode(jpg_img[1]).decode('utf-8')\n",
    "key_val = '6'\n",
    "sentence = \"cat looking forward, dreamy\"\n",
    "\n",
    "files = {'image': b64_string, 'key' : key_val, 'sentence' : sentence}\n",
    "\n",
    "response = requests.post(\"http://192.168.1.38:83/image\", json=files)\n",
    "\n",
    "if response.status_code == 200:\n",
    "    print(\"end!\")\n",
    "    result = response.json()['result']\n",
    "    ok_sign = response.json()['ok_sign']\n",
    "    if ok_sign == '1':\n",
    "        imgdata = base64.b64decode(result)\n",
    "        encoded_img = np.frombuffer(imgdata, dtype = np.uint8)\n",
    "        img_cv = cv2.imdecode(encoded_img, cv2.IMREAD_COLOR)\n",
    "        \n",
    "        cv2.imshow('image', img_cv)\n",
    "        cv2.waitKey(0)\n",
    "        cv2.destroyAllWindows()\n",
    "        \n",
    "        print(\"ok\")\n",
    "    else:\n",
    "        print(\"non ok!\")\n",
    "        \n",
    "else:\n",
    "    print(\"error\", response.status_code)"
   ]
  },
  {
   "cell_type": "code",
   "execution_count": 22,
   "id": "ac41f1e4",
   "metadata": {},
   "outputs": [
    {
     "name": "stdout",
     "output_type": "stream",
     "text": [
      "error 500\n"
     ]
    }
   ],
   "source": [
    "# 스케치 누끼\n",
    "\n",
    "import requests\n",
    "import json\n",
    "import base64\n",
    "import cv2\n",
    "import numpy as np\n",
    "\n",
    "jpg_img = cv2.imencode('.jpg', img_cv)\n",
    "b64_string = base64.b64encode(jpg_img[1]).decode('utf-8')\n",
    "key_val = '15'\n",
    "point = [250, 225]\n",
    "\n",
    "files = {'image': b64_string, 'key' : key_val, 'point' : point}\n",
    "\n",
    "response = requests.post(\"http://192.168.1.38:83/image\", json=files)\n",
    "\n",
    "if response.status_code == 200:\n",
    "    print(\"end!\")\n",
    "    result = response.json()['result']\n",
    "    ok_sign = response.json()['ok_sign']\n",
    "    if ok_sign == '1':\n",
    "        imgdata = base64.b64decode(result)\n",
    "        encoded_img = np.frombuffer(imgdata, dtype = np.uint8)\n",
    "        img_cv = cv2.imdecode(encoded_img, cv2.IMREAD_COLOR)\n",
    "        \n",
    "        cv2.imshow('image', img_cv)\n",
    "        cv2.waitKey(0)\n",
    "        cv2.destroyAllWindows()\n",
    "        \n",
    "        print(\"ok\")\n",
    "    else:\n",
    "        print(\"non ok!\")\n",
    "        \n",
    "else:\n",
    "    print(\"error\", response.status_code)"
   ]
  },
  {
   "cell_type": "code",
   "execution_count": 21,
   "id": "188e6fd7",
   "metadata": {},
   "outputs": [
    {
     "data": {
      "text/plain": [
       "(320, 512, 3)"
      ]
     },
     "execution_count": 21,
     "metadata": {},
     "output_type": "execute_result"
    }
   ],
   "source": [
    "img_cv.shape"
   ]
  },
  {
   "cell_type": "code",
   "execution_count": null,
   "id": "d982cb54",
   "metadata": {},
   "outputs": [],
   "source": []
  },
  {
   "cell_type": "code",
   "execution_count": null,
   "id": "29d28950",
   "metadata": {},
   "outputs": [],
   "source": []
  },
  {
   "cell_type": "code",
   "execution_count": 2,
   "id": "4af5b6a5",
   "metadata": {},
   "outputs": [
    {
     "name": "stdout",
     "output_type": "stream",
     "text": [
      "end!\n",
      "['1. 호랑이와 무당', '2. 호랑이와 고양이', '3. 호랑이와 곰', '4. 호랑이와 자라', '5. 호랑이와 토끼', '6. 호랑이와 쥐', '7. 호랑이와 마을 사람들', '8. 호랑이와 멍청한 아들', '9. 호랑이와 욕심쟁이 상인', '10. 호랑이와 대머리 소년']\n",
      "ok!\n"
     ]
    }
   ],
   "source": [
    "# 스토리 만들기\n",
    "\n",
    "import requests\n",
    "import json\n",
    "import base64\n",
    "import cv2\n",
    "import numpy as np\n",
    "\n",
    "key_val = '7'\n",
    "sentence = \"호랑이와 관련된 동화\"\n",
    "\n",
    "files = {'choice': 'yes', 'key' : key_val, 'sentence' : sentence}\n",
    "\n",
    "response = requests.post(\"http://192.168.1.38:83/image\", json=files)\n",
    "\n",
    "if response.status_code == 200:\n",
    "    print(\"end!\")\n",
    "    ok_sign = response.json()['ok_sign']\n",
    "    if ok_sign == 1:\n",
    "        answer = response.json()['answer']\n",
    "        print(answer)\n",
    "        print(\"ok!\")\n",
    "        \n",
    "    else:\n",
    "        print(\"non ok!\")\n",
    "        \n",
    "else:\n",
    "    print(\"error\", response.status_code)"
   ]
  },
  {
   "cell_type": "code",
   "execution_count": 10,
   "id": "7686c59e",
   "metadata": {},
   "outputs": [
    {
     "name": "stdout",
     "output_type": "stream",
     "text": [
      "end!\n",
      "ok!\n"
     ]
    }
   ],
   "source": [
    "# 스토리 저장\n",
    "\n",
    "import requests\n",
    "import json\n",
    "import base64\n",
    "import cv2\n",
    "import numpy as np\n",
    "import os\n",
    "\n",
    "\n",
    "key_val = '8'\n",
    "iden = 'test00'\n",
    "title = '토끼와 거북이'\n",
    "\n",
    "path = 'C:/Users/do150/Desktop/proimage'\n",
    "\n",
    "def get_all_file_names(directory):\n",
    "    file_names = []\n",
    "    for root, dirs, files in os.walk(directory):\n",
    "        for file in files:\n",
    "            file_names.append(os.path.join(root, file))\n",
    "    return file_names\n",
    "\n",
    "arr = get_all_file_names(path)\n",
    "arr1= []\n",
    "for i in arr:\n",
    "    img = cv2.imread(i)\n",
    "    jpg_img = cv2.imencode('.jpg', img)\n",
    "    b64_string = base64.b64encode(jpg_img[1]).decode('utf-8')\n",
    "    arr1.append(b64_string)\n",
    "\n",
    "story = ['토끼와 거북이가 경주를 함','빠른 토끼는 먼저 앞서감','토끼는 중간에 휴식을 위해서 잠을 잠','거북이는 꾸준히 감','결국 거북이가 결승선을 먼저 통과하게 됨']\n",
    "\n",
    "\n",
    "files = {'key' : key_val, 'id': iden, 'story': story, 'image': arr1, 'title': title}\n",
    "\n",
    "response = requests.post(\"http://221.163.223.200:5000/image\", json=files)\n",
    "\n",
    "if response.status_code == 200:\n",
    "    print(\"end!\")\n",
    "    ok_sign = response.json()['ok_sign']\n",
    "    if ok_sign == '1':\n",
    "        print(\"ok!\")\n",
    "    else:\n",
    "        print(\"non ok!\")\n",
    "        \n",
    "else:\n",
    "    print(\"error\", response.status_code)"
   ]
  },
  {
   "cell_type": "code",
   "execution_count": 1,
   "id": "393730db",
   "metadata": {},
   "outputs": [
    {
     "name": "stdout",
     "output_type": "stream",
     "text": [
      "end!\n",
      "3\n",
      "ok!\n"
     ]
    }
   ],
   "source": [
    "# 동화책 만들기\n",
    "\n",
    "import requests\n",
    "import json\n",
    "import base64\n",
    "import cv2\n",
    "import numpy as np\n",
    "\n",
    "key_val = '9'\n",
    "iden = 'test00'\n",
    "category = 'o'\n",
    "\n",
    "files = {'key' : key_val, 'id': iden, 'cate': category}\n",
    "\n",
    "response = requests.post(\"http://192.168.0.102:5000/image\", json=files)\n",
    "\n",
    "if response.status_code == 200:\n",
    "    print(\"end!\")\n",
    "    ok_sign = response.json()['ok_sign']\n",
    "    if ok_sign == '1':\n",
    "        result = response.json()['image']\n",
    "        print(len(result))\n",
    "        \n",
    "        print(\"ok!\")\n",
    "    else:\n",
    "        print(\"non ok!\")\n",
    "        \n",
    "else:\n",
    "    print(\"error\", response.status_code)"
   ]
  },
  {
   "cell_type": "code",
   "execution_count": 5,
   "id": "ef44337c",
   "metadata": {},
   "outputs": [],
   "source": [
    "imgdata = base64.b64decode(result[2])\n",
    "encoded_img = np.frombuffer(imgdata, dtype = np.uint8)\n",
    "img_cv = cv2.imdecode(encoded_img, cv2.IMREAD_COLOR)\n",
    "        \n",
    "cv2.imshow('image', img_cv)\n",
    "cv2.waitKey(0)\n",
    "cv2.destroyAllWindows()"
   ]
  },
  {
   "cell_type": "code",
   "execution_count": 64,
   "id": "c762c9ae",
   "metadata": {},
   "outputs": [
    {
     "name": "stdout",
     "output_type": "stream",
     "text": [
      "[['C:/Users/do150/Desktop/result_images/image0.jpg'], ['C:/Users/do150/Desktop/result_images/image1.jpg'], ['C:/Users/do150/Desktop/result_images/image2.jpg'], ['C:/Users/do150/Desktop/result_images/image3.jpg'], ['C:/Users/do150/Desktop/result_images/image4.jpg']]\n",
      "5\n"
     ]
    }
   ],
   "source": [
    "import cv2\n",
    "\n",
    "print(result)\n",
    "arr1 = []\n",
    "\n",
    "for i in result:\n",
    "    img = cv2.imread(i[0])\n",
    "    jpg_img = cv2.imencode('.jpg', img)\n",
    "    b64_string = base64.b64encode(jpg_img[1]).decode('utf-8')\n",
    "    arr1.append(b64_string)\n",
    "    \n",
    "print(len(arr1))"
   ]
  },
  {
   "cell_type": "code",
   "execution_count": null,
   "id": "d873074c",
   "metadata": {},
   "outputs": [],
   "source": [
    "# 스토리리스트\n",
    "\n",
    "import requests\n",
    "import json\n",
    "import base64\n",
    "import cv2\n",
    "import numpy as np\n",
    "\n",
    "key_val = '10'\n",
    "iden = 'test00'\n",
    "\n",
    "files = {'key' : key_val, 'id': iden}\n",
    "\n",
    "response = requests.post(\"http://221.163.223.200:5000/image\", json=files)\n",
    "\n",
    "if response.status_code == 200:\n",
    "    print(\"end!\")\n",
    "    ok_sign = response.json()['ok_sign']\n",
    "    if ok_sign == '1':\n",
    "        title = response.json()['title']\n",
    "        story = response.json()['storyid']\n",
    "        print(title, story)\n",
    "        print(\"ok!\")\n",
    "    else:\n",
    "        print(\"non ok!\")\n",
    "        \n",
    "else:\n",
    "    print(\"error\", response.status_code)\n"
   ]
  },
  {
   "cell_type": "code",
   "execution_count": 69,
   "id": "3ded4498",
   "metadata": {},
   "outputs": [
    {
     "name": "stdout",
     "output_type": "stream",
     "text": [
      "end!\n",
      "['123222232', '5rdfdfg', '1243214df', '43523rf', '123sfda']\n",
      "['adsfawrevocdfsvofa', 'adsfawrevocdfsvofa', 'adsfawrevocdfsvofa', 'adsfawrevocdfsvofa', 'adsfawrevocdfsvofa']\n",
      "ok!\n"
     ]
    }
   ],
   "source": [
    "# 동화책 읽기\n",
    "\n",
    "import requests\n",
    "import json\n",
    "import base64\n",
    "import cv2\n",
    "import numpy as np\n",
    "\n",
    "key_val = '11'\n",
    "iden = 'test00'\n",
    "storyid = '0'\n",
    "\n",
    "files = {'key' : key_val, 'id': iden, 'storyid': storyid}\n",
    "\n",
    "response = requests.post(\"http://192.168.1.38:83/image\", json=files)\n",
    "\n",
    "if response.status_code == 200:\n",
    "    print(\"end!\")\n",
    "    ok_sign = response.json()['ok_sign']\n",
    "    if ok_sign == '1':\n",
    "        image = response.json()['image']\n",
    "        story = response.json()['story']\n",
    "        print(image)\n",
    "        print(story)\n",
    "        print(\"ok!\")\n",
    "    else:\n",
    "        print(\"non ok!\")\n",
    "        \n",
    "else:\n",
    "    print(\"error\", response.status_code)"
   ]
  },
  {
   "cell_type": "code",
   "execution_count": 7,
   "id": "fdfff946",
   "metadata": {},
   "outputs": [
    {
     "name": "stdout",
     "output_type": "stream",
     "text": [
      "end!\n",
      "ok!\n"
     ]
    }
   ],
   "source": [
    "# 동화책 읽기\n",
    "\n",
    "import requests\n",
    "import json\n",
    "import base64\n",
    "import cv2\n",
    "import numpy as np\n",
    "import os\n",
    "\n",
    "key_val = '8'\n",
    "iden = 'test00'\n",
    "image = []\n",
    "title = \"토끼와 거북이\"\n",
    "story = ['거북이와 토끼가 경주 시합을 하기로 했다.', '토끼는 거북이를 놀리며 빠르게 뛰어서 멀어져 갔다.', '토끼는 중간에 거북이의 속도를 생각하고 방심해서 잠에 들었다.', '거북이는 꾸준히 계속 걸어갔다.', '결국 중간에 깬 토끼가 빠르게 뛰어 갔지만 거북이가 결승선에 먼저 도착하게 됐다.']\n",
    "\n",
    "file_path = os.listdir('C:/Users/do150/Desktop/proimage')\n",
    "\n",
    "for i in range(len(file_path)):\n",
    "    image_name = 'C:/Users/do150/Desktop/proimage/' + file_path[i]\n",
    "    img = cv2.imread(image_name)\n",
    "    jpg_img = cv2.imencode('.jpg', img)\n",
    "    b64_string = base64.b64encode(jpg_img[1]).decode('utf-8')\n",
    "    image.append(b64_string)   \n",
    "\n",
    "files = {'key' : key_val, 'id': iden, 'title': title, 'image': image, 'story': story}\n",
    "\n",
    "response = requests.post(\"http://221.163.223.200:5000/image\", json=files)\n",
    "\n",
    "if response.status_code == 200:\n",
    "    print(\"end!\")\n",
    "    ok_sign = response.json()['ok_sign']\n",
    "    if ok_sign == '1':\n",
    "        print(\"ok!\")\n",
    "    else:\n",
    "        print(\"non ok!\")\n",
    "        \n",
    "else:\n",
    "    print(\"error\", response.status_code)"
   ]
  },
  {
   "cell_type": "code",
   "execution_count": 9,
   "id": "8e7fbd16",
   "metadata": {},
   "outputs": [
    {
     "name": "stdout",
     "output_type": "stream",
     "text": [
      "error 500\n"
     ]
    }
   ],
   "source": [
    "# 동화책 읽기\n",
    "\n",
    "import requests\n",
    "import json\n",
    "import base64\n",
    "import cv2\n",
    "import numpy as np\n",
    "\n",
    "key_val = '11'\n",
    "iden = 'test00'\n",
    "storyid = '1'\n",
    "page = 7\n",
    "\n",
    "files = {'key' : key_val, 'id': iden, 'storyid': storyid, 'page': page}\n",
    "\n",
    "response = requests.post(\"http://221.163.223.200:5000/image\", json=files)\n",
    "\n",
    "if response.status_code == 200:\n",
    "    print(\"end!\")\n",
    "    ok_sign = response.json()['ok_sign']\n",
    "    if ok_sign == '1':\n",
    "        image = response.json()['image']\n",
    "        story = response.json()['story']\n",
    "        print(image)\n",
    "        print(story)\n",
    "        print(\"ok!\")\n",
    "    else:\n",
    "        print(\"non ok!\")\n",
    "        \n",
    "else:\n",
    "    print(\"error\", response.status_code)"
   ]
  },
  {
   "cell_type": "code",
   "execution_count": 2,
   "id": "14247fad",
   "metadata": {},
   "outputs": [
    {
     "name": "stdout",
     "output_type": "stream",
     "text": [
      "image0.png\n"
     ]
    }
   ],
   "source": [
    "import os\n",
    "\n",
    "file_path = os.listdir('C:/Users/do150/Desktop/proimage')\n",
    "print(file_path[0])"
   ]
  }
 ],
 "metadata": {
  "kernelspec": {
   "display_name": "Python 3 (ipykernel)",
   "language": "python",
   "name": "python3"
  },
  "language_info": {
   "codemirror_mode": {
    "name": "ipython",
    "version": 3
   },
   "file_extension": ".py",
   "mimetype": "text/x-python",
   "name": "python",
   "nbconvert_exporter": "python",
   "pygments_lexer": "ipython3",
   "version": "3.10.11"
  }
 },
 "nbformat": 4,
 "nbformat_minor": 5
}
