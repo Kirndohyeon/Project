{
 "cells": [
  {
   "cell_type": "code",
   "execution_count": 31,
   "id": "25927161",
   "metadata": {
    "scrolled": false
   },
   "outputs": [],
   "source": [
    "import requests\n",
    "import json\n",
    "import base64\n",
    "import cv2\n",
    "\n",
    "image_name = 'C:/Users/do150/Desktop/de/out-0.png'\n",
    "img = cv2.imread(image_name)\n",
    "jpg_img = cv2.imencode('.jpg', img)\n",
    "b64_string = base64.b64encode(jpg_img[1]).decode('utf-8')\n",
    "\n",
    "files = {\n",
    "            \"image\": b64_string,\n",
    "        }\n",
    "\n",
    "r = requests.post(\"http://192.168.1.38:83/image\", json=files)"
   ]
  },
  {
   "cell_type": "code",
   "execution_count": null,
   "id": "2fc374ca",
   "metadata": {},
   "outputs": [],
   "source": []
  }
 ],
 "metadata": {
  "kernelspec": {
   "display_name": "Python 3 (ipykernel)",
   "language": "python",
   "name": "python3"
  },
  "language_info": {
   "codemirror_mode": {
    "name": "ipython",
    "version": 3
   },
   "file_extension": ".py",
   "mimetype": "text/x-python",
   "name": "python",
   "nbconvert_exporter": "python",
   "pygments_lexer": "ipython3",
   "version": "3.11.2"
  }
 },
 "nbformat": 4,
 "nbformat_minor": 5
}
